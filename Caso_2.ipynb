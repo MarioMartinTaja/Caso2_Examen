{
 "cells": [
  {
   "cell_type": "markdown",
   "metadata": {
    "application/vnd.databricks.v1+cell": {
     "cellMetadata": {},
     "inputWidgets": {},
     "nuid": "7bc88472-0819-44bb-a870-05c265cca4c5",
     "showTitle": false,
     "tableResultSettingsMap": {},
     "title": ""
    }
   },
   "source": [
    "# Encontrando insights de la UEFA Champions League"
   ]
  },
  {
   "cell_type": "markdown",
   "metadata": {
    "application/vnd.databricks.v1+cell": {
     "cellMetadata": {},
     "inputWidgets": {},
     "nuid": "dec9c196-3f29-444f-a2f7-13e3827b29ef",
     "showTitle": false,
     "tableResultSettingsMap": {},
     "title": ""
    }
   },
   "source": [
    "La Liga de Campeones de la UEFA, a menudo llamada Liga de Campeones, es una competencia anual de fútbol por excelencia que cautiva a los fanáticos de todo el mundo. Establecida en 1955 como la Copa de Clubes Campeones de Europa, evolucionó a la Liga de Campeones de la UEFA en 1992, ampliando su atractivo. El formato moderno cuenta con 32 equipos de clubes de primer nivel seleccionados en función de su desempeño en la liga nacional, lo que aumenta la intriga.  \n",
    "\n",
    "Este evento electrizante trasciende los deportes y se convierte en una celebración de la unidad, la cultura y el orgullo nacional. Los fanáticos, vestidos con los colores de sus países, crean una atmósfera eléctrica, lo que hace que el torneo sea tanto sobre los espectadores como sobre los jugadores. Financieramente, la Liga de Campeones es un salvavidas para los clubes, ya que aumenta los ingresos y ofrece oportunidades transformadoras. Sin embargo, genera debates sobre las disparidades de riqueza en el fútbol europeo.  \n",
    "\n",
    "La Liga de Campeones es sinónimo de rivalidades históricas, triunfos de los desvalidos y brillantez individual. Para los jugadores, representa la cima de su carrera, mientras que para los fanáticos, es un fenómeno cultural. El himno y los rituales icónicos enriquecen la experiencia futbolística. En 200 palabras, la UEFA Champions League es el epítome de la excelencia del fútbol europeo, que ofrece momentos inolvidables, recompensas económicas y un impacto cultural único, con 32 clubes de primer nivel que se suman a su atractivo."
   ]
  },
  {
   "cell_type": "markdown",
   "metadata": {
    "application/vnd.databricks.v1+cell": {
     "cellMetadata": {},
     "inputWidgets": {},
     "nuid": "215c85ce-a0c1-423d-b3ee-174f810d470c",
     "showTitle": false,
     "tableResultSettingsMap": {},
     "title": ""
    }
   },
   "source": [
    "dbfs:/FileStore/shared_uploads/mario.martin@tajamar365.com/uefa_2020_in_.csv\n",
    "\n",
    "dbfs:/FileStore/shared_uploads/mario.martin@tajamar365.com/uefa_2021_in_.csv\n",
    "\n",
    "dbfs:/FileStore/shared_uploads/mario.martin@tajamar365.com/uefa_2022_in_.csv"
   ]
  },
  {
   "cell_type": "markdown",
   "metadata": {
    "application/vnd.databricks.v1+cell": {
     "cellMetadata": {},
     "inputWidgets": {},
     "nuid": "3ff8fe53-6686-4ae2-8c5b-662e85535ff5",
     "showTitle": false,
     "tableResultSettingsMap": {},
     "title": ""
    }
   },
   "source": [
    "**Nombres de las tablas o ficheros a utilizar**:  \n",
    "[uefa_2020.csv](https://tajamar365.sharepoint.com/:x:/s/3405-MasterIA2024-2025/EQuW8d16tZJKpYZN6jR480sBgc1IYypAw9hGHKQARS560g?e=7TybBU)  \n",
    "[uefa_2021.csv](https://tajamar365.sharepoint.com/:x:/s/3405-MasterIA2024-2025/ESG8YBrjD3tBky3aGT0MwIABNt_PQxFVVYVlWMnZYUmV8g?e=VrYHtX)  \n",
    "[uefa_2022.csv](https://tajamar365.sharepoint.com/:x:/s/3405-MasterIA2024-2025/Ecf8O8U8sxJLoW9Bkd2ZVzgBb_gZc35mNcprnR9FMlzliQ?e=Vn3a6v)  \n",
    "- Todas las tablas tienen las mismas columnas y data types"
   ]
  },
  {
   "cell_type": "markdown",
   "metadata": {
    "application/vnd.databricks.v1+cell": {
     "cellMetadata": {},
     "inputWidgets": {},
     "nuid": "910b06ac-21ef-4f0c-bb95-9611f90d7635",
     "showTitle": false,
     "tableResultSettingsMap": {},
     "title": ""
    }
   },
   "source": [
    "| Column | Definition | Data type |\n",
    "|--------|------------|-----------|\n",
    "| `STAGE`| Stage of the March | `VARCHAR(50)` |\n",
    "| `DATE` | When the match occurred. | `DATE` |\n",
    "| `PENS` | Did the match end with penalty | `VARCHAR(50)` |\n",
    "| `PENS_HOME_SCORE` | In case of penalty, score by home team | `VARCHAR(50)` |\n",
    "| `PENS_AWAY_SCORE` | In case of penalty, score by away team | `VARCHAR(50)` |\n",
    "| `TEAM_NAME_HOME` | Team home name | `VARCHAR(50)` |\n",
    "| `TEAM_NAME_AWAY`| Team away  name | `VARCHAR(50)` |\n",
    "| `TEAM_HOME_SCORE` | Team home score | `NUMBER` |\n",
    "| `TEAM_AWAY_SCORE` | Team away score | `NUMBER` |\n",
    "| `POSSESSION_HOME` | Ball possession for the home team | `FLOAT` |\n",
    "| `POSSESSION_AWAY` | Ball possession for the away team | `FLOAT` |\n",
    "| `TOTAL_SHOTS_HOME` | Number of shots by the home team | `NUMBER` |\n",
    "| `TOTAL_SHOTS_AWAY` | Number of shots by the away team | `NUMBER`\n",
    "| `SHOTS_ON_TARGET_HOME` | Total shot for home team | `FLOAT` |\n",
    "| `SHOTS_ON_TARGET_AWAY` | Total shot for away team | `FLOAT` |\n",
    "| `DUELS_WON_HOME` | duel win possession of ball - for home team | `NUMBER` |\n",
    "| `DUELS_WON_AWAY` | duel win possession of ball - for away team | `NUMBER` \n",
    "| `PREDICTION_TEAM_HOME_WIN` | Probability of home team to win | `FLOAT` |\n",
    "| `PREDICTION_DRAW` | Probability of draw | `FLOAT` |\n",
    "| `PREDICTION_TEAM_AWAY_WIN` | Probability of away team to win | `FLOAT` |\n",
    "| `LOCATION` | Stadium where the match was held | `VARCHAR(50)` |"
   ]
  },
  {
   "cell_type": "markdown",
   "metadata": {
    "application/vnd.databricks.v1+cell": {
     "cellMetadata": {},
     "inputWidgets": {},
     "nuid": "b6ed3067-8a31-45a7-9120-766336560fef",
     "showTitle": false,
     "tableResultSettingsMap": {},
     "title": ""
    }
   },
   "source": [
    "### Requerimientos:  \n",
    "-Puedes utilizar SQL o PySpark"
   ]
  },
  {
   "cell_type": "code",
   "execution_count": 0,
   "metadata": {
    "application/vnd.databricks.v1+cell": {
     "cellMetadata": {
      "byteLimit": 2048000,
      "rowLimit": 10000
     },
     "inputWidgets": {},
     "nuid": "d0318eed-56e2-4e92-a2ba-5ff641a2cfc5",
     "showTitle": false,
     "tableResultSettingsMap": {},
     "title": ""
    }
   },
   "outputs": [
    {
     "output_type": "stream",
     "name": "stdout",
     "output_type": "stream",
     "text": [
      "+---------------------------+------------+-----+---------------+---------------+-------------------+---------------------+---------------+---------------+---------------+---------------+----------------+----------------+--------------------+--------------------+--------------+--------------+------------------------+---------------+------------------------+------------------------------+\n|STAGE                      |DATE        |PENS |PENS_HOME_SCORE|PENS_AWAY_SCORE|TEAM_NAME_HOME     |TEAM_NAME_AWAY       |TEAM_HOME_SCORE|TEAM_AWAY_SCORE|POSSESSION_HOME|POSSESSION_AWAY|TOTAL_SHOTS_HOME|TOTAL_SHOTS_AWAY|SHOTS_ON_TARGET_HOME|SHOTS_ON_TARGET_AWAY|DUELS_WON_HOME|DUELS_WON_AWAY|PREDICTION_TEAM_HOME_WIN|PREDICTION_DRAW|PREDICTION_TEAM_AWAY_WIN|LOCATION                      |\n+---------------------------+------------+-----+---------------+---------------+-------------------+---------------------+---------------+---------------+---------------+---------------+----------------+----------------+--------------------+--------------------+--------------+--------------+------------------------+---------------+------------------------+------------------------------+\n| Final                     | 29-05-2021 |false|false          |false          | Manchester City   | Chelsea             |0              |1              |61%            |39%            |7               |8               |1                   |2                   |50%           |50%           |55%                     |3%             |42%                     | Estádio Do Dragão            |\n| Semi-finals second leg    | 05-05-2021 |false|false          |false          | Chelsea           | Real Madrid         |2              |0              |32%            |68%            |15              |7               |5                   |5                   |52%           |49%           |43%                     |3%             |54%                     | Stamford Bridge              |\n| Semi-finals second leg    | 04-05-2021 |false|false          |false          | Manchester City   | PSG                 |2              |0              |44%            |56%            |12              |14              |5                   |0                   |53%           |47%           |44%                     |3%             |53%                     | Etihad Stadium               |\n| Semi-finals first leg     | 28-04-2021 |false|false          |false          | PSG               | Manchester City     |1              |2              |40%            |60%            |10              |11              |4                   |6                   |47%           |53%           |65%                     |4%             |31%                     | Parc des Princes             |\n| Semi-finals first leg     | 27-04-2021 |false|false          |false          | Real Madrid       | Chelsea             |1              |1              |51%            |49%            |9               |11              |1                   |5                   |49%           |52%           |61%                     |4%             |35%                     | Alfredo Di Stéfano           |\n| Quarter-finals second leg | 14-04-2021 |false|false          |false          | Liverpool         | Real Madrid         |0              |0              |57%            |43%            |15              |6               |4                   |2                   |50%           |50%           |34%                     |3%             |63%                     | Anfield                      |\n| Quarter-finals second leg | 14-04-2021 |false|false          |false          | Borussia Dortmund | Manchester City     |1              |2              |38%            |62%            |10              |17              |3                   |5                   |42%           |58%           |53%                     |3%             |44%                     | SIGNAL IDUNA PARK            |\n| Quarter-finals second leg | 13-04-2021 |false|false          |false          | PSG               | Bayern Munich       |0              |1              |44%            |56%            |10              |14              |3                   |5                   |54%           |46%           |55%                     |3%             |42%                     | Parc des Princes             |\n| Quarter-finals second leg | 13-04-2021 |false|false          |false          | Chelsea           | FC Porto            |0              |1              |46%            |54%            |8               |8               |1                   |2                   |52%           |48%           |78%                     |2%             |20%                     | Ramón Sánchez-Pizjuán        |\n| Quarter-finals first leg  | 07-04-2021 |false|false          |false          | FC Porto          | Chelsea             |0              |2              |39%            |61%            |12              |6               |5                   |3                   |62%           |38%           |26%                     |3%             |71%                     | Ramón Sánchez-Pizjuán        |\n| Quarter-finals first leg  | 07-04-2021 |false|false          |false          | Bayern Munich     | PSG                 |2              |3              |64%            |36%            |31              |6               |12                  |5                   |56%           |44%           |43%                     |4%             |53%                     | Allianz Arena                |\n| Quarter-finals first leg  | 06-04-2021 |false|false          |false          | Real Madrid       | Liverpool           |3              |1              |45%            |55%            |16              |7               |7                   |1                   |62%           |38%           |56%                     |4%             |40%                     | Alfredo Di Stéfano           |\n| Quarter-finals first leg  | 06-04-2021 |false|false          |false          | Manchester City   | Borussia Dortmund   |2              |1              |62%            |38%            |11              |7               |5                   |3                   |54%           |46%           |60%                     |3%             |37%                     | Etihad Stadium               |\n| Round of 16 second leg    | 17-03-2021 |false|false          |false          | Chelsea           | Atlético Madrid     |2              |0              |57%            |43%            |16              |10              |5                   |4                   |52%           |48%           |54%                     |5%             |41%                     | Stamford Bridge              |\n| Round of 16 second leg    | 17-03-2021 |false|false          |false          | Bayern Munich     | Lazio               |2              |1              |59%            |41%            |12              |5               |4                   |2                   |53%           |47%           |84%                     |2%             |14%                     | Allianz Arena                |\n| Round of 16 second leg    | 16-03-2021 |false|false          |false          | Manchester City   | B. M‘Gladbach       |2              |0              |68%            |32%            |10              |6               |6                   |3                   |55%           |45%           |82%                     |2%             |16%                     | Puskás Aréna                 |\n| Round of 16 second leg    | 16-03-2021 |false|false          |false          | Real Madrid       | Atalanta            |3              |1              |53%            |47%            |12              |13              |6                   |5                   |54%           |46%           |65%                     |3%             |32%                     | Alfredo Di Stéfano           |\n| Round of 16 second leg    | 10-03-2021 |false|false          |false          | PSG               | Barcelona           |1              |1              |27%            |73%            |7               |21              |3                   |10                  |55%           |45%           |49%                     |3%             |48%                     | Parc des Princes             |\n| Round of 16 second leg    | 10-03-2021 |false|false          |false          | Liverpool         | RB Leipzig          |2              |0              |40%            |60%            |12              |11              |7                   |2                   |40%           |60%           |65%                     |3%             |32%                     | Puskás Aréna                 |\n| Round of 16 second leg    | 09-03-2021 |false|false          |false          | Juventus          | FC Porto            |3              |2              |69%            |31%            |31              |14              |13                  |7                   |53%           |47%           |70%                     |3%             |27%                     | Allianz Stadium              |\n| Round of 16 second leg    | 09-03-2021 |false|false          |false          | Borussia Dortmund | Sevilla             |2              |2              |31%            |69%            |9               |19              |5                   |8                   |56%           |44%           |80%                     |3%             |17%                     | SIGNAL IDUNA PARK            |\n| Round of 16 first leg     | 24-02-2021 |false|false          |false          | Atalanta          | Real Madrid         |0              |1              |31%            |69%            |2               |19              |0                   |4                   |52%           |48%           |37%                     |4%             |59%                     | Gewiss Stadium               |\n| Round of 16 first leg     | 24-02-2021 |false|false          |false          | B. M‘Gladbach     | Manchester City     |0              |2              |39%            |61%            |3               |9               |1                   |4                   |54%           |46%           |20%                     |3%             |77%                     | Puskás Aréna                 |\n| Round of 16 first leg     | 23-02-2021 |false|false          |false          | Atlético Madrid   | Chelsea             |0              |1              |36%            |64%            |6               |11              |0                   |5                   |58%           |42%           |55%                     |6%             |39%                     | National Arena               |\n| Round of 16 first leg     | 23-02-2021 |false|false          |false          | Lazio             | Bayern Munich       |1              |4              |43%            |57%            |14              |13              |5                   |7                   |51%           |49%           |17%                     |3%             |80%                     | Olimpico                     |\n| Round of 16 first leg     | 17-02-2021 |false|false          |false          | FC Porto          | Juventus            |2              |1              |34%            |66%            |8               |12              |5                   |5                   |51%           |49%           |19%                     |3%             |78%                     | Estádio Do Dragão            |\n| Round of 16 first leg     | 17-02-2021 |false|false          |false          | Sevilla           | Borussia Dortmund   |2              |3              |66%            |34%            |12              |10              |4                   |5                   |56%           |44%           |33%                     |4%             |63%                     | Ramón Sánchez-Pizjuán        |\n| Round of 16 first leg     | 16-02-2021 |false|false          |false          | Barcelona         | PSG                 |1              |4              |53%            |47%            |12              |16              |4                   |9                   |38%           |62%           |53%                     |5%             |42%                     | Camp Nou                     |\n| Round of 16 first leg     | 16-02-2021 |false|false          |false          | RB Leipzig        | Liverpool           |0              |2              |47%            |53%            |12              |10              |2                   |3                   |42%           |58%           |37%                     |5%             |58%                     | Puskás Aréna                 |\n| Group stage: Matchday 6   | 09-12-2020 |false|false          |false          | Real Madrid       | B. M‘Gladbach       |2              |0              |64%            |36%            |19              |7               |7                   |1                   |55%           |45%           |67%                     |4%             |29%                     | Alfredo Di Stéfano           |\n| Group stage: Matchday 6   | 09-12-2020 |false|false          |false          | Bayern Munich     | Lokomotiv Moscow    |2              |0              |70%            |30%            |22              |7               |7                   |3                   |53%           |47%           |91%                     |2%             |7%                      | Allianz Arena                |\n| Group stage: Matchday 6   | 09-12-2020 |false|false          |false          | Salzburg          | Atlético Madrid     |0              |2              |58%            |42%            |18              |7               |2                   |4                   |42%           |58%           |21%                     |4%             |75%                     | Red Bull Arena Salzburg      |\n| Group stage: Matchday 6   | 09-12-2020 |false|false          |false          | Inter             | Shakhtar Donetsk    |0              |0              |57%            |43%            |20              |7               |4                   |3                   |52%           |49%           |75%                     |5%             |20%                     | Giuseppe Meazza              |\n| Group stage: Matchday 6   | 09-12-2020 |false|false          |false          | Olympiacos        | FC Porto            |0              |2              |57%            |43%            |7               |8               |1                   |3                   |50%           |50%           |15%                     |5%             |80%                     | Georgios Karaiskakis Stadium |\n| Group stage: Matchday 6   | 09-12-2020 |false|false          |false          | Manchester City   | Marseille           |3              |0              |53%            |47%            |15              |8               |8                   |2                   |56%           |44%           |77%                     |3%             |20%                     | Etihad Stadium               |\n| Group stage: Matchday 6   | 09-12-2020 |false|false          |false          | PSG               | İstanbul Başakşehir |5              |1              |69%            |31%            |20              |10              |9                   |4                   |66%           |34%           |85%                     |3%             |12%                     | Parc des Princes             |\n| Group stage: Matchday 6   | 09-12-2020 |false|false          |false          | Ajax              | Atalanta            |0              |1              |64%            |36%            |12              |8               |2                   |2                   |44%           |56%           |52%                     |7%             |41%                     | Johan Cruijff Arena          |\n| Group stage: Matchday 6   | 09-12-2020 |false|false          |false          | Midtjylland       | Liverpool           |1              |1              |49%            |51%            |20              |7               |7                   |4                   |55%           |45%           |7%                      |2%             |91%                     | MCH Arena                    |\n| Group stage: Matchday 6   | 08-12-2020 |false|false          |false          | Barcelona         | Juventus            |0              |3              |60%            |40%            |19              |9               |7                   |4                   |51%           |50%           |49%                     |5%             |46%                     | Camp Nou                     |\n| Group stage: Matchday 6   | 08-12-2020 |false|false          |false          | Chelsea           | Krasnodar           |1              |1              |64%            |36%            |18              |7               |5                   |2                   |54%           |46%           |92%                     |2%             |6%                      | Stamford Bridge              |\n| Group stage: Matchday 6   | 08-12-2020 |false|false          |false          | Dynamo Kyiv       | Ferencváros         |1              |0              |41%            |59%            |4               |8               |2                   |2                   |51%           |49%           |73%                     |10%            |17%                     | Kiev Olympic Stadium         |\n| Group stage: Matchday 6   | 08-12-2020 |false|false          |false          | RB Leipzig        | Manchester United   |3              |2              |44%            |56%            |9               |19              |4                   |7                   |40%           |60%           |33%                     |5%             |62%                     | Red Bull Arena               |\n| Group stage: Matchday 6   | 08-12-2020 |false|false          |false          | Rennes            | Sevilla             |1              |3              |49%            |51%            |19              |8               |6                   |5                   |45%           |55%           |16%                     |5%             |79%                     | Roazhon Park                 |\n| Group stage: Matchday 6   | 08-12-2020 |false|false          |false          | Zenit             | Borussia Dortmund   |1              |2              |44%            |56%            |17              |14              |4                   |5                   |53%           |47%           |10%                     |3%             |87%                     | Saint Petersburg Stadium     |\n| Group stage: Matchday 6   | 08-12-2020 |false|false          |false          | Lazio             | Club Brugge         |2              |2              |52%            |48%            |15              |8               |8                   |3                   |51%           |50%           |81%                     |5%             |14%                     | Olimpico                     |\n| Group stage: Matchday 5   | 02-12-2020 |false|false          |false          | Borussia Dortmund | Lazio               |1              |1              |57%            |43%            |13              |12              |4                   |6                   |49%           |51%           |78%                     |4%             |18%                     | SIGNAL IDUNA PARK            |\n| Group stage: Matchday 5   | 02-12-2020 |false|false          |false          | Club Brugge       | Zenit               |3              |0              |51%            |49%            |11              |4               |5                   |0                   |56%           |44%           |48%                     |9%             |43%                     | Jan Breydelstadion           |\n| Group stage: Matchday 5   | 02-12-2020 |false|false          |false          | Ferencváros       | Barcelona           |0              |3              |37%            |63%            |10              |19              |2                   |5                   |47%           |53%           |6%                      |1%             |93%                     | Puskás Aréna                 |\n| Group stage: Matchday 5   | 02-12-2020 |false|false          |false          | Juventus          | Dynamo Kyiv         |3              |0              |53%            |47%            |17              |7               |7                   |3                   |68%           |32%           |91%                     |2%             |7%                      | Allianz Stadium              |\n| Group stage: Matchday 5   | 02-12-2020 |false|false          |false          | Manchester United | PSG                 |1              |3              |44%            |56%            |12              |13              |5                   |6                   |49%           |51%           |46%                     |5%             |49%                     | Old Trafford                 |\n+---------------------------+------------+-----+---------------+---------------+-------------------+---------------------+---------------+---------------+---------------+---------------+----------------+----------------+--------------------+--------------------+--------------+--------------+------------------------+---------------+------------------------+------------------------------+\nonly showing top 50 rows\n\n+-------------------------------------------------------------------------+----------+-----+---------------+---------------+------------------+------------------+---------------+---------------+---------------+---------------+----------------+----------------+--------------------+--------------------+--------------+--------------+------------------------+---------------+------------------------+---------------------------------+\n|STAGE                                                                    |DATE      |PENS |PENS_HOME_SCORE|PENS_AWAY_SCORE|TEAM_NAME_HOME    |TEAM_NAME_AWAY    |TEAM_HOME_SCORE|TEAM_AWAY_SCORE|POSSESSION_HOME|POSSESSION_AWAY|TOTAL_SHOTS_HOME|TOTAL_SHOTS_AWAY|SHOTS_ON_TARGET_HOME|SHOTS_ON_TARGET_AWAY|DUELS_WON_HOME|DUELS_WON_AWAY|PREDICTION_TEAM_HOME_WIN|PREDICTION_DRAW|PREDICTION_TEAM_AWAY_WIN|LOCATION                         |\n+-------------------------------------------------------------------------+----------+-----+---------------+---------------+------------------+------------------+---------------+---------------+---------------+---------------+----------------+----------------+--------------------+--------------------+--------------+--------------+------------------------+---------------+------------------------+---------------------------------+\n| Final                                                                   |2022-05-29|false|false          |false          |Liverpool         |Real Madrid       |0              |1              |50%            |50%            |23              |3               |15                  |2                   |37%           |63%           |47%                     |2              |53%                     |Anfield                          |\n| Semi-finals second leg                                                  |2022-05-05|false|false          |false          |Real Madrid       |Man City          |3              |1              |44%            |56%            |14              |15              |5                   |10                  |47%           |53%           |49%                     |10             |51%                     |Santiago Bernabeu                |\n| Semi-finals second leg                                                  |2022-05-04|false|false          |false          |Villarreal        |Liverpool         |2              |3              |44%            |56%            |6               |15              |2                   |5                   |49%           |51%           |49%                     |4              |51%                     |El Madrigal                      |\n| Semi-finals first leg                                                   |2022-04-28|false|false          |false          |Liverpool         |Villarreal        |2              |0              |74%            |26%            |19              |1               |5                   |0                   |41%           |59%           |50%                     |4              |50%                     |Anfield                          |\n| Semi-finals first leg                                                   |2022-04-27|false|false          |false          |Man City          |Real Madrid       |4              |3              |60%            |40%            |16              |11              |6                   |5                   |46%           |54%           |48%                     |5              |52%                     |Etihad                           |\n| Quarter-finals second leg                                               |2022-04-14|false|false          |false          |Atl�tico de Madrid|Man City          |0              |0              |39%            |61%            |14              |10              |3                   |1                   |49%           |51%           |45%                     |8              |55%                     |Civitas Metropolitan Stadium     |\n| Quarter-finals \n\n*** WARNING: max output size exceeded, skipping output. ***\n\n7                   |37%           |63%           |37%                     |2              |63%                     |San Siro                         |\n| Group stage: Matchday 6                                                 |2021-12-08|false|false          |false          |Dortmund          |Be?ikta?          |5              |0              |70%            |30%            |29              |1               |7                   |0                   |46%           |54%           |43%                     |7              |57%                     |Signal Iduna Park                |\n| Group stage: Matchday 6                                                 |2021-12-08|false|false          |false          |Ajax              |Sporting CP       |4              |2              |59%            |41%            |16              |10              |7                   |4                   |47%           |53%           |42%                     |7              |58%                     |Johan Cruijff Arena              |\n| Group stage: Matchday 6                                                 |2021-12-08|false|false          |false          |FC Porto          |Atl�tico de Madrid|1              |3              |68%            |32%            |14              |14              |6                   |7                   |45%           |55%           |43%                     |10             |57%                     |Estadio do Dragao                |\n| Group stage: Matchday 6                                                 |2021-12-08|false|false          |false          |Shakhtar Donetsk  |Sheriff           |1              |1              |69%            |31%            |20              |12              |5                   |4                   |42%           |58%           |40%                     |10             |60%                     |NSK Olimpiiskyi                  |\n| Group stage: Matchday 6                                                 |2021-12-07|false|false          |false          |Paris             |Club Brugge       |4              |1              |61%            |39%            |17              |15              |9                   |6                   |38%           |62%           |42%                     |8              |58%                     |Parc des Princes                 |\n| Group stage: Matchday 6                                                 |2021-12-07|false|false          |false          |Leipzig           |Man City          |2              |1              |44%            |56%            |9               |13              |5                   |3                   |38%           |62%           |43%                     |1              |57%                     |Red Bull Arena Leipzig           |\n| Group stage: Matchday 6                                                 |2021-12-09|false|false          |false          |Atalanta\"         |null              |null           |null           |null           |null           |null            |null            |null                |null                |null          |null          |null                    |null           |null                    |null                             |\n|,Villarreal,2,3,65%,35%,19,9,5,6,45%,55%,49%,8,51%,Gewiss Stadium\\n      |null      |null |null           |null           |null              |null              |null           |null           |null           |null           |null            |null            |null                |null                |null          |null          |null                    |null           |null                    |null                             |\n| Group stage: Matchday 5                                                 |2021-11-25|false|false          |false          |Club Brugge       |Leipzig           |0              |5              |41%            |59%            |22              |29              |9                   |6                   |47%           |53%           |40%                     |1              |60%                     |Jan Breydel Stadium              |\n+-------------------------------------------------------------------------+----------+-----+---------------+---------------+------------------+------------------+---------------+---------------+---------------+---------------+----------------+----------------+--------------------+--------------------+--------------+--------------+------------------------+---------------+------------------------+---------------------------------+\nonly showing top 50 rows\n\n+-------------------------+----------+-----+---------------+---------------+-------------------+-------------------+---------------+---------------+---------------+---------------+----------------+----------------+--------------------+--------------------+--------------+--------------+------------------------+---------------+------------------------+-------------------------+\n|STAGE                    |DATE      |PENS |PENS_HOME_SCORE|PENS_AWAY_SCORE|TEAM_NAME_HOME     |TEAM_NAME_AWAY     |TEAM_HOME_SCORE|TEAM_AWAY_SCORE|POSSESSION_HOME|POSSESSION_AWAY|TOTAL_SHOTS_HOME|TOTAL_SHOTS_AWAY|SHOTS_ON_TARGET_HOME|SHOTS_ON_TARGET_AWAY|DUELS_WON_HOME|DUELS_WON_AWAY|PREDICTION_TEAM_HOME_WIN|PREDICTION_DRAW|PREDICTION_TEAM_AWAY_WIN|LOCATION                 |\n+-------------------------+----------+-----+---------------+---------------+-------------------+-------------------+---------------+---------------+---------------+---------------+----------------+----------------+--------------------+--------------------+--------------+--------------+------------------------+---------------+------------------------+-------------------------+\n| Group stage: Matchday 1 |2022-09-06|false|false          |false          |Dinamo Zagreb      |Chelsea            |1              |0              |31%            |69%            |6               |15              |3                   |3                   |44%           |56%           |49%                     |10             |51%                     |Maksimir                 |\n| Group stage: Matchday 1 |2022-09-06|false|false          |false          |Salzburg           |AC Milan           |1              |1              |34%            |66%            |16              |14              |4                   |3                   |38%           |62%           |41%                     |9              |59%                     |Red Bull Arena           |\n| Group stage: Matchday 1 |2022-09-06|false|false          |false          |Celtic             |Real Madrid        |0              |3              |35%            |65%            |10              |12              |4                   |6                   |46%           |54%           |47%                     |8              |53%                     |Celtic Park              |\n| Group stage: Matchday 1 |2022-09-06|false|false          |false          |RB Leipzig         |Shakhtar Donetsk   |1              |4              |68%            |32%            |13              |5               |2                   |4                   |47%           |53%           |49%                     |8              |51%                     |Red Bull Arena           |\n| Group stage: Matchday 1 |2022-09-06|false|false          |false          |Borussia Dortmund  |K�benhavn          |3              |0              |63%            |37%            |15              |7               |4                   |2                   |49%           |51%           |45%                     |6              |55%                     |Signal Iduna Park        |\n| Group stage: Matchday 1 |2022-09-06|false|false          |false          |Sevilla            |Manchester City    |0              |4              |38%            |62%            |6               |24              |1                   |10                  |42%           |58%           |43%                     |2              |57%                     |Ram�n S�nchez Pizju�n    |\n| Group stage: Matchday 1 |2022-09-06|false|false          |false          |Paris Saint-Germain|Juventus           |2              |1              |58%            |42%            |15              |13              |6                   |4                   |36%           |64%           |45%                     |3              |55%                     |Parc des Princes         |\n| Group stage: Matchday 1 |2022-09-06|false|false          |false          |Benfica            |Maccabi Haifa      |2              |0              |57%            |43%            |14              |7               |5                   |2                   |46%           |54%           |42%                     |8              |58%                     |Stadion da Luz           |\n| Group stage: Matchday 1 |2022-09-07|false|false          |false          |Ajax               |Rangers            |4              |0              |76%            |24%            |17              |4               |9                   |1                   |47%           |53%           |45%                     |3              |55%                     |Amsterdam Arena          |\n| Group stage: Matchday 1 |2022-09-07|false|false          |false          |Napoli             |Liverpool          |4              |1              |38%            |62%            |18              |15              |9                   |7                   |44%           |56%           |45%                     |8              |55%                     |San Paolo                |\n| Group stage: Matchday 1 |2022-09-07|false|false          |false          |Atletico Madrid    |Porto              |2              |1              |54%            |46%            |10              |17              |3                   |3                   |45%           |55%           |38%                     |3              |62%                     |Vicente Calderon         |\n| Group stage: Matchday 1 |2022-09-07|false|false          |false          |Club Brugge        |Bayer Leverkusen   |1              |0              |47%            |53%            |9               |14              |3                   |3                   |44%           |56%           |43%                     |1              |57%                     |Jan Breydel              |\n| Group stage: Matchday 1 |2022-09-07|false|false          |false          |Internazionale     |Bayern Munich      |0              |2              |44%            |56%            |9               |21              |2                   |11                  |45%           |55%           |41%                     |8              |59%                     |San Siro                 |\n| Group stage: Matchday 1 |2022-09-07|false|false          |false          |Barcelona          |Viktoria Plze?     |5              |1              |77%            |23%            |20              |8               |11                  |1                   |43%           |57%           |37%                     |10             |63%                     |Nou Camp                 |\n| Group stage: Matchday 1 |2022-09-07|false|false          |false          |Eintracht Frankfurt|Sporting CP        |0              |3              |43%            |57%            |11              |8               |2                   |5                   |42%           |58%           |38%                     |10             |62%                     |Eintracht-Stadion        |\n| Group stage: Matchday 1 |2022-09-07|false|false          |false          |Tottenham Hotspur  |Marseille          |2              |0              |49%            |51%            |18              |9               |2                   |1                   |45%           |55%           |44%                     |3              |56%                     |Tottenham Hotspur Stadium|\n| Group stage: Matchday 2 |2022-09-13|false|false          |false          |Liverpool          |Ajax               |2              |1              |57%            |43%            |24              |3               |10                  |1                   |48%           |52%           |46%                     |5              |54%                     |Anfield                  |\n| Group stage: Matchday 2 |2022-09-13|false|false          |false          |Rangers            |Napoli             |0              |3              |46%            |54%            |22              |12              |4                   |5                   |48%           |52%           |35%                     |1              |65%                     |Ibrox Stadium            |\n| Group stage: Matchday 2 |2022-09-13|false|false          |false          |Bayer Leverkusen   |Atletico Madrid    |2              |0              |45%            |55%            |18              |12              |5                   |3                   |42%           |58%           |49%                     |2              |51%                     |BayArena                 |\n| Group stage: Matchday 2 |2022-09-13|false|false          |false          |Porto              |Club Brugge        |0              |4              |55%            |45%            |15              |13              |4                   |7                   |35%           |65%           |44%                     |9              |56%                     |Est�dio do Drag�o        |\n| Group stage: Matchday 2 |2022-09-13|false|false          |false          |Viktoria Plze?     |Internazionale     |0              |2              |28%            |72%            |8               |19              |1                   |8                   |39%           |61%           |40%                     |5              |60%                     |Doosan Arena             |\n| Group stage: Matchday 2 |2022-09-13|false|false          |false          |Bayern Munich      |Barcelona          |2              |0              |46%            |54%            |13              |18              |4                   |4                   |39%           |61%           |39%                     |8              |61%                     |Allianz Arena            |\n| Group stage: Matchday 2 |2022-09-13|false|false          |false          |Sporting CP        |Tottenham Hotspur  |2              |0              |55%            |45%            |12              |12              |6                   |5                   |45%           |55%           |43%                     |9              |57%                     |Jos� Alvalade            |\n| Group stage: Matchday 2 |2022-09-13|false|false          |false          |Marseille          |Eintracht Frankfurt|0              |1              |61%            |39%            |8               |14              |4                   |7                   |38%           |62%           |36%                     |7              |64%                     |V�lodrome                |\n| Group stage: Matchday 2 |2022-09-14|false|false          |false          |AC Milan           |Dinamo Zagreb      |3              |1              |57%            |43%            |17              |7               |7                   |3                   |50%           |50%           |44%                     |6              |56%                     |San Siro                 |\n| Group stage: Matchday 2 |2022-09-14|false|false          |false          |Chelsea            |Salzburg           |1              |1              |73%            |27%            |17              |4               |4                   |3                   |39%           |61%           |45%                     |8              |55%                     |Stamford Bridge          |\n| Group stage: Matchday 2 |2022-09-14|false|false          |false          |Shakhtar Donetsk   |Celtic             |1              |1              |43%            |57%            |5               |16              |2                   |6                   |40%           |60%           |36%                     |10             |64%                     |Donbass Arena            |\n| Group stage: Matchday 2 |2022-09-14|false|false          |false          |Real Madrid        |RB Leipzig         |2              |0              |53%            |47%            |12              |9               |3                   |3                   |43%           |57%           |42%                     |1              |58%                     |Santiago Bernabeu        |\n| Group stage: Matchday 2 |2022-09-14|false|false          |false          |Manchester City    |Borussia Dortmund  |2              |1              |66%            |34%            |12              |5               |3                   |2                   |50%           |50%           |41%                     |2              |59%                     |Etihad                   |\n| Group stage: Matchday 2 |2022-09-14|false|false          |false          |K�benhavn          |Sevilla            |0              |0              |37%            |63%            |7               |11              |2                   |2                   |46%           |54%           |46%                     |2              |54%                     |Parken Stadium           |\n| Group stage: Matchday 2 |2022-09-14|false|false          |false          |Juventus           |Benfica            |1              |2              |43%            |57%            |11              |19              |3                   |7                   |39%           |61%           |49%                     |1              |51%                     |Allianz Stadium          |\n| Group stage: Matchday 2 |2022-09-14|false|false          |false          |Maccabi Haifa      |Paris Saint-Germain|1              |3              |43%            |57%            |13              |16              |5                   |6                   |37%           |63%           |46%                     |10             |54%                     |Sammy Ofer               |\n| Group stage: Matchday 3 |2022-10-04|false|false          |false          |Ajax               |Napoli             |1              |6              |43%            |57%            |8               |26              |2                   |13                  |37%           |63%           |48%                     |8              |52%                     |Amsterdam Arena          |\n| Group stage: Matchday 3 |2022-10-04|false|false          |false          |Liverpool          |Rangers            |2              |0              |64%            |36%            |23              |6               |10                  |2                   |39%           |61%           |49%                     |6              |51%                     |Anfield                  |\n| Group stage: Matchday 3 |2022-10-04|false|false          |false          |Club Brugge        |Atletico Madrid    |2              |0              |47%            |53%            |7               |20              |3                   |5                   |45%           |55%           |46%                     |3              |54%                     |Jan Breydel              |\n| Group stage: Matchday 3 |2022-10-04|false|false          |false          |Porto              |Bayer Leverkusen   |2              |0              |41%            |59%            |12              |8               |4                   |6                   |39%           |61%           |44%                     |9              |56%                     |Est�dio do Drag�o        |\n| Group stage: Matchday 3 |2022-10-04|false|false          |false          |Bayern Munich      |Viktoria Plze?     |5              |0              |71%            |29%            |21              |10              |13                  |3                   |40%           |60%           |40%                     |2              |60%                     |Allianz Arena            |\n| Group stage: Matchday 3 |2022-10-04|false|false          |false          |Internazionale     |Barcelona          |1              |0              |28%            |72%            |5               |7               |2                   |2                   |37%           |63%           |40%                     |5              |60%                     |San Siro                 |\n| Group stage: Matchday 3 |2022-10-04|false|false          |false          |Marseille          |Sporting CP        |4              |1              |56%            |44%            |20              |6               |7                   |2                   |36%           |64%           |44%                     |1              |56%                     |V�lodrome                |\n| Group stage: Matchday 3 |2022-10-04|false|false          |false          |Eintracht Frankfurt|Tottenham Hotspur  |0              |0              |43%            |57%            |12              |11              |2                   |2                   |38%           |62%           |48%                     |9              |52%                     |Eintracht-Stadion        |\n| Group stage: Matchday 3 |2022-10-05|false|false          |false          |Salzburg           |Dinamo Zagreb      |1              |0              |47%            |53%            |18              |10              |6                   |3                   |49%           |51%           |40%                     |7              |60%                     |Red Bull Arena           |\n| Group stage: Matchday 3 |2022-10-05|false|false          |false          |Chelsea            |AC Milan           |3              |0              |52%            |48%            |10              |4               |6                   |1                   |38%           |62%           |46%                     |6              |54%                     |Stamford Bridge          |\n| Group stage: Matchday 3 |2022-10-05|false|false          |false          |RB Leipzig         |Celtic             |3              |1              |59%            |41%            |16              |12              |6                   |5                   |39%           |61%           |49%                     |2              |51%                     |Red Bull Arena           |\n| Group stage: Matchday 3 |2022-10-05|false|false          |false          |Real Madrid        |Shakhtar Donetsk   |2              |1              |60%            |40%            |36              |11              |14                  |3                   |50%           |50%           |47%                     |5              |53%                     |Santiago Bernabeu        |\n| Group stage: Matchday 3 |2022-10-05|false|false          |false          |Sevilla            |Borussia Dortmund  |1              |4              |59%            |41%            |20              |19              |6                   |7                   |41%           |59%           |48%                     |9              |52%                     |Ram�n S�nchez Pizju�n    |\n| Group stage: Matchday 3 |2022-10-05|false|false          |false          |Manchester City    |K�benhavn          |5              |0              |76%            |24%            |30              |2               |16                  |0                   |45%           |55%           |38%                     |8              |62%                     |Etihad                   |\n| Group stage: Matchday 3 |2022-10-05|false|false          |false          |Juventus           |Maccabi Haifa      |3              |1              |51%            |49%            |16              |20              |7                   |4                   |49%           |51%           |50%                     |8              |50%                     |Allianz Stadium          |\n| Group stage: Matchday 3 |2022-10-05|false|false          |false          |Benfica            |Paris Saint-Germain|1              |1              |35%            |65%            |8               |15              |6                   |7                   |43%           |57%           |37%                     |6              |63%                     |Stadion da Luz           |\n| Group stage: Matchday 4 |2022-10-11|false|false          |false          |AC Milan           |Chelsea            |0              |2              |29%            |71%            |7               |15              |1                   |4                   |45%           |55%           |46%                     |6              |54%                     |San Siro                 |\n| Group stage: Matchday 4 |2022-10-11|false|false          |false          |Dinamo Zagreb      |Salzburg           |1              |1              |57%            |43%            |14              |15              |3                   |3                   |41%           |59%           |48%                     |4              |52%                     |Maksimir                 |\n+-------------------------+----------+-----+---------------+---------------+-------------------+-------------------+---------------+---------------+---------------+---------------+----------------+----------------+--------------------+--------------------+--------------+--------------+------------------------+---------------+------------------------+-------------------------+\nonly showing top 50 rows\n\n"
     ]
    }
   ],
   "source": [
    "from pyspark.sql import SparkSession\n",
    "\n",
    "# Crear la sesión de Spark\n",
    "spark = SparkSession.builder.appName(\"UEFA_Champions_League_Analysis\").getOrCreate()\n",
    "\n",
    "# Rutas de los archivos\n",
    "file_path_1 = \"dbfs:/FileStore/shared_uploads/mario.martin@tajamar365.com/uefa_2020_in_.csv\"\n",
    "file_path_2 = \"dbfs:/FileStore/shared_uploads/mario.martin@tajamar365.com/uefa_2021_in_.csv\"\n",
    "file_path_3 = \"dbfs:/FileStore/shared_uploads/mario.martin@tajamar365.com/uefa_2022_in_.csv\"\n",
    "\n",
    "# Cargar los archivos CSV\n",
    "df1 = spark.read.option(\"header\", \"true\").csv(file_path_1, inferSchema=True)\n",
    "df2 = spark.read.option(\"header\", \"true\").csv(file_path_2, inferSchema=True)\n",
    "df3 = spark.read.option(\"header\", \"true\").csv(file_path_3, inferSchema=True)\n",
    "\n",
    "df1.show(50, truncate=False)\n",
    "df2.show(50, truncate=False)\n",
    "df3.show(50, truncate=False)\n"
   ]
  },
  {
   "cell_type": "markdown",
   "metadata": {
    "application/vnd.databricks.v1+cell": {
     "cellMetadata": {},
     "inputWidgets": {},
     "nuid": "96872dad-7ed6-4372-84e9-763aa2d6c83f",
     "showTitle": false,
     "tableResultSettingsMap": {},
     "title": ""
    }
   },
   "source": [
    "1. Encuentra los 3 equipos que anotaron más goles jugando en su estadio en la UEFA Champions League 2020-21. El resultado debe contener dos columnas: TEAM_NAME_HOME y TEAM_HOME_SCORE ordenadas en orden descendente de TEAM_HOME_SCORE. Guarda la consulta (o el notebook) como TEAM_HOME_WITH_MOST_GOALS."
   ]
  },
  {
   "cell_type": "code",
   "execution_count": 0,
   "metadata": {
    "application/vnd.databricks.v1+cell": {
     "cellMetadata": {
      "byteLimit": 2048000,
      "rowLimit": 10000
     },
     "inputWidgets": {},
     "nuid": "94d633f7-464e-43e8-a4fa-c0da809b0e61",
     "showTitle": false,
     "tableResultSettingsMap": {},
     "title": ""
    }
   },
   "outputs": [
    {
     "output_type": "stream",
     "name": "stdout",
     "output_type": "stream",
     "text": [
      "+-----------------+---------------+\n|   TEAM_NAME_HOME|TEAM_HOME_SCORE|\n+-----------------+---------------+\n| Manchester City |             15|\n|     Real Madrid |             14|\n|   Bayern Munich |             13|\n+-----------------+---------------+\n\n"
     ]
    }
   ],
   "source": [
    "# Sumo los goles de los equipos locales\n",
    "team_home_goals_df = df1.groupBy(\"TEAM_NAME_HOME\").sum(\"TEAM_HOME_SCORE\")\n",
    "\n",
    "# Renombro la columna resultante\n",
    "team_home_goals_df = team_home_goals_df.withColumnRenamed(\"sum(TEAM_HOME_SCORE)\", \"TEAM_HOME_SCORE\")\n",
    "\n",
    "# Ordeno por los goles y cojo los 3 primeros\n",
    "top_teams_home_goals_df = team_home_goals_df.orderBy(\"TEAM_HOME_SCORE\", ascending=False).limit(3)\n",
    "top_teams_home_goals_df.show()\n"
   ]
  },
  {
   "cell_type": "markdown",
   "metadata": {
    "application/vnd.databricks.v1+cell": {
     "cellMetadata": {},
     "inputWidgets": {},
     "nuid": "b375e92e-5c96-4ee8-8c35-29b8e7ab887f",
     "showTitle": false,
     "tableResultSettingsMap": {},
     "title": ""
    }
   },
   "source": [
    "2. Encuentra el equipo con posesión mayoritaria la mayor cantidad de veces durante la UEFA Champions League 2021-22. El resultado debe incluir dos columnas: TEAM_NAME y GAME_COUNT, que es la cantidad de veces que el equipo tuvo posesión mayoritaria durante un partido de fútbol. Guarda esta consulta (o el notebook) como TEAM_WITH_MAJORITY_POSSESSION"
   ]
  },
  {
   "cell_type": "code",
   "execution_count": 0,
   "metadata": {
    "application/vnd.databricks.v1+cell": {
     "cellMetadata": {
      "byteLimit": 2048000,
      "rowLimit": 10000
     },
     "inputWidgets": {},
     "nuid": "61a66984-d97c-47c0-ac21-1e0bd03b4741",
     "showTitle": false,
     "tableResultSettingsMap": {},
     "title": ""
    }
   },
   "outputs": [
    {
     "output_type": "stream",
     "name": "stdout",
     "output_type": "stream",
     "text": [
      "+------------------+---------------------+---------------------+----------+\n|         TEAM_NAME|HOME_POSSESSION_COUNT|AWAY_POSSESSION_COUNT|GAME_COUNT|\n+------------------+---------------------+---------------------+----------+\n|          Man City|                    3|                    3|         6|\n|       Real Madrid|                    1|                    5|         6|\n|        Villarreal|                    1|                    4|         5|\n|Atl�tico de Madrid|                    0|                    5|         5|\n|         Liverpool|                    3|                    2|         5|\n|           Chelsea|                    2|                    3|         5|\n|            Bayern|                    3|                    1|         4|\n|             Paris|                    2|                    2|         4|\n|        Man United|                    1|                    3|         4|\n|           Benfica|                    0|                    4|         4|\n|             Malmo|                    0|                    3|         3|\n|          Besiktas|                    0|                    3|         3|\n|  Shakhtar Donetsk|                    1|                    2|         3|\n|             Lille|                    0|                    3|         3|\n|              Ajax|                    2|                    1|         3|\n|       Dynamo Kyiv|                    0|                    3|         3|\n|         Barcelona|                    0|                    3|         3|\n|             Inter|                    0|                    3|         3|\n|       Sporting CP|                    0|                    3|         3|\n|         Wolfsburg|                    1|                    2|         3|\n+------------------+---------------------+---------------------+----------+\nonly showing top 20 rows\n\n"
     ]
    }
   ],
   "source": [
    "from pyspark.sql.functions import col, when, sum\n",
    "\n",
    "# Hago una columna para ver si el local tuvo mayor posesión\n",
    "df2 = df2.withColumn(\"POSSESSION_HOME_MAJORITY\", (df2[\"POSSESSION_HOME\"] > df2[\"POSSESSION_AWAY\"]).cast(\"int\"))\n",
    "\n",
    "# Hago una columna para ver si el visitante tuvo mayor posesión\n",
    "df2 = df2.withColumn(\"POSSESSION_AWAY_MAJORITY\", (df2[\"POSSESSION_AWAY\"] > df2[\"POSSESSION_HOME\"]).cast(\"int\"))\n",
    "\n",
    "# Contar las veces que cada equipo tuvo posesión mayoritaria\n",
    "team_majority_possession_df = df2.groupBy(\"TEAM_NAME_HOME\").agg(\n",
    "    sum(\"POSSESSION_HOME_MAJORITY\").alias(\"HOME_POSSESSION_COUNT\"),\n",
    "    sum(\"POSSESSION_AWAY_MAJORITY\").alias(\"AWAY_POSSESSION_COUNT\")\n",
    ")\n",
    "\n",
    "# Sumar ambas columnas de posesión mayoritaria\n",
    "team_majority_possession_df = team_majority_possession_df.withColumn(\n",
    "    \"GAME_COUNT\", col(\"HOME_POSSESSION_COUNT\") + col(\"AWAY_POSSESSION_COUNT\")\n",
    ")\n",
    "\n",
    "# Renombro las columnas para mostrar más limpio el resultado\n",
    "team_majority_possession_df = team_majority_possession_df.withColumnRenamed(\"TEAM_NAME_HOME\", \"TEAM_NAME\")\n",
    "\n",
    "# Ordeno por la cantidad de veces que un equipo tuvo más posesión\n",
    "team_majority_possession_df = team_majority_possession_df.orderBy(\"GAME_COUNT\", ascending=False)\n",
    "\n",
    "# Muestra el resultado\n",
    "team_majority_possession_df.show()\n"
   ]
  },
  {
   "cell_type": "markdown",
   "metadata": {
    "application/vnd.databricks.v1+cell": {
     "cellMetadata": {},
     "inputWidgets": {},
     "nuid": "7c960a38-f12d-4b88-aaad-b70de0c2323f",
     "showTitle": false,
     "tableResultSettingsMap": {},
     "title": ""
    }
   },
   "source": [
    "3. Encuentra la lista de equipos de cada fase del juego que ganaron el duelo en un partido pero terminaron perdiendo el juego en el Campeonato de la UEFA 2022-23. El resultado debe contener dos columnas: STAGE y TEAM_LOST. Guarda la consulta (o el notebook) como TEAM_WON_DUEL_LOST_GAME_STAGE_WISE."
   ]
  },
  {
   "cell_type": "code",
   "execution_count": 0,
   "metadata": {
    "application/vnd.databricks.v1+cell": {
     "cellMetadata": {
      "byteLimit": 2048000,
      "rowLimit": 10000
     },
     "inputWidgets": {},
     "nuid": "5b5a904a-58be-4e45-8a29-d16b3b8fa65f",
     "showTitle": false,
     "tableResultSettingsMap": {},
     "title": ""
    }
   },
   "outputs": [
    {
     "output_type": "stream",
     "name": "stdout",
     "output_type": "stream",
     "text": [
      "+--------------------+-----------------+\n|               STAGE|        TEAM_LOST|\n+--------------------+-----------------+\n| Group stage: Mat...|          Chelsea|\n| Group stage: Mat...|        K�benhavn|\n| Group stage: Mat...|         Juventus|\n| Group stage: Mat...|    Maccabi Haifa|\n| Group stage: Mat...|          Rangers|\n| Group stage: Mat...|        Liverpool|\n| Group stage: Mat...|            Porto|\n| Group stage: Mat...| Bayer Leverkusen|\n| Group stage: Mat...|   Viktoria Plze?|\n| Group stage: Mat...|        Marseille|\n| Group stage: Mat...|             Ajax|\n| Group stage: Mat...|  Atletico Madrid|\n| Group stage: Mat...|        Barcelona|\n| Group stage: Mat...|Tottenham Hotspur|\n| Group stage: Mat...|       RB Leipzig|\n| Group stage: Mat...|          Rangers|\n| Group stage: Mat...|  Atletico Madrid|\n| Group stage: Mat...| Bayer Leverkusen|\n| Group stage: Mat...|   Viktoria Plze?|\n| Group stage: Mat...|        Barcelona|\n+--------------------+-----------------+\nonly showing top 20 rows\n\n"
     ]
    }
   ],
   "source": [
    "# Columna para ver si el local ganó el duelo\n",
    "df3 = df3.withColumn(\n",
    "    \"DUEL_HOME_WIN\", \n",
    "    when(col(\"DUELS_WON_HOME\") > col(\"DUELS_WON_AWAY\"), 1).otherwise(0)\n",
    ")\n",
    "\n",
    "# Columna para ver si el visitante ganó el duelo\n",
    "df3 = df3.withColumn(\n",
    "    \"DUEL_AWAY_WIN\", \n",
    "    when(col(\"DUELS_WON_AWAY\") > col(\"DUELS_WON_HOME\"), 1).otherwise(0)\n",
    ")\n",
    "\n",
    "#Columna para ver si el local perdió el partido\n",
    "df3 = df3.withColumn(\n",
    "    \"GAME_HOME_LOST\", \n",
    "    when(col(\"TEAM_HOME_SCORE\") < col(\"TEAM_AWAY_SCORE\"), 1).otherwise(0)\n",
    ")\n",
    "\n",
    "#Columna para ver si el visitante perdió el partido\n",
    "df3 = df3.withColumn(\n",
    "    \"GAME_AWAY_LOST\", \n",
    "    when(col(\"TEAM_AWAY_SCORE\") < col(\"TEAM_HOME_SCORE\"), 1).otherwise(0)\n",
    ")\n",
    "\n",
    "#Filtro los equipos que ganaron el duelo pero perdieron el partido\n",
    "df3_filtered = df3.filter(\n",
    "    ((col(\"DUEL_HOME_WIN\") == 1) & (col(\"GAME_HOME_LOST\") == 1)) | \n",
    "    ((col(\"DUEL_AWAY_WIN\") == 1) & (col(\"GAME_AWAY_LOST\") == 1))\n",
    ")\n",
    "\n",
    "# Selecciono las columnas STAGE y el nombre del equipo que perdió el partido\n",
    "team_duel_lost_game_stage_wise = df3_filtered.select(\n",
    "    \"STAGE\", \n",
    "    when(col(\"DUEL_HOME_WIN\") == 1, col(\"TEAM_NAME_HOME\"))\n",
    "    .otherwise(col(\"TEAM_NAME_AWAY\")).alias(\"TEAM_LOST\")\n",
    ")\n",
    "team_duel_lost_game_stage_wise.show()\n"
   ]
  }
 ],
 "metadata": {
  "application/vnd.databricks.v1+notebook": {
   "dashboards": [],
   "environmentMetadata": null,
   "language": "python",
   "notebookMetadata": {
    "pythonIndentUnit": 4
   },
   "notebookName": "Caso_2",
   "widgets": {}
  }
 },
 "nbformat": 4,
 "nbformat_minor": 0
}
